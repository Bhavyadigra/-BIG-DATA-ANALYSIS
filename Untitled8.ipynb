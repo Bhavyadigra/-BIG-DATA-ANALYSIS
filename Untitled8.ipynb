{
  "nbformat": 4,
  "nbformat_minor": 0,
  "metadata": {
    "colab": {
      "provenance": []
    },
    "kernelspec": {
      "name": "python3",
      "display_name": "Python 3"
    },
    "language_info": {
      "name": "python"
    }
  },
  "cells": [
    {
      "cell_type": "code",
      "execution_count": 1,
      "metadata": {
        "id": "JCoEUVg595vv"
      },
      "outputs": [],
      "source": [
        "!pip install -q pyspark\n"
      ]
    },
    {
      "cell_type": "code",
      "source": [
        "from pyspark.sql import SparkSession\n",
        "\n",
        "spark = SparkSession.builder.appName(\"BigDataTask1\").getOrCreate()\n",
        "spark\n"
      ],
      "metadata": {
        "colab": {
          "base_uri": "https://localhost:8080/",
          "height": 219
        },
        "id": "OOtS9Wah-BW5",
        "outputId": "9ea94b83-d3b0-4075-9443-b591378a8f2a"
      },
      "execution_count": 2,
      "outputs": [
        {
          "output_type": "execute_result",
          "data": {
            "text/plain": [
              "<pyspark.sql.session.SparkSession at 0x79d028d21910>"
            ],
            "text/html": [
              "\n",
              "            <div>\n",
              "                <p><b>SparkSession - in-memory</b></p>\n",
              "                \n",
              "        <div>\n",
              "            <p><b>SparkContext</b></p>\n",
              "\n",
              "            <p><a href=\"http://bc5d3f723911:4040\">Spark UI</a></p>\n",
              "\n",
              "            <dl>\n",
              "              <dt>Version</dt>\n",
              "                <dd><code>v3.5.1</code></dd>\n",
              "              <dt>Master</dt>\n",
              "                <dd><code>local[*]</code></dd>\n",
              "              <dt>AppName</dt>\n",
              "                <dd><code>BigDataTask1</code></dd>\n",
              "            </dl>\n",
              "        </div>\n",
              "        \n",
              "            </div>\n",
              "        "
            ]
          },
          "metadata": {},
          "execution_count": 2
        }
      ]
    },
    {
      "cell_type": "code",
      "source": [
        "# Download and load the dataset\n",
        "!wget -O covid.csv https://raw.githubusercontent.com/owid/covid-19-data/master/public/data/latest/owid-covid-latest.csv\n",
        "\n",
        "# Load CSV using PySpark\n",
        "df = spark.read.option(\"header\", True).csv(\"covid.csv\", inferSchema=True)\n",
        "\n",
        "# Preview the data\n",
        "df.show(5)\n"
      ],
      "metadata": {
        "colab": {
          "base_uri": "https://localhost:8080/"
        },
        "id": "RTs87f00_XAB",
        "outputId": "42f46b98-a0c8-4ed2-8f44-3904faf88c91"
      },
      "execution_count": 6,
      "outputs": [
        {
          "output_type": "stream",
          "name": "stdout",
          "text": [
            "--2025-06-24 17:30:16--  https://raw.githubusercontent.com/owid/covid-19-data/master/public/data/latest/owid-covid-latest.csv\n",
            "Resolving raw.githubusercontent.com (raw.githubusercontent.com)... 185.199.109.133, 185.199.108.133, 185.199.111.133, ...\n",
            "Connecting to raw.githubusercontent.com (raw.githubusercontent.com)|185.199.109.133|:443... connected.\n",
            "HTTP request sent, awaiting response... 200 OK\n",
            "Length: 55437 (54K) [text/plain]\n",
            "Saving to: ‘covid.csv’\n",
            "\n",
            "covid.csv           100%[===================>]  54.14K  --.-KB/s    in 0.06s   \n",
            "\n",
            "2025-06-24 17:30:16 (932 KB/s) - ‘covid.csv’ saved [55437/55437]\n",
            "\n",
            "+--------+---------+--------------+-----------------+-----------+---------+------------------+------------+----------+-------------------+-----------------------+---------------------+------------------------------+------------------------+----------------------+-------------------------------+-----------------+------------+------------------------+-------------+-------------------------+---------------------+---------------------------------+----------------------+----------------------------------+-----------+---------+------------------------+----------------------+------------------+-------------------------------+-------------+--------------+-----------+------------------+-----------------+-----------------------+--------------+----------------+-------------------------+------------------------------+-----------------------------+-----------------------------------+--------------------------+-------------------------------------+------------------------------+------------------------------------------+----------------+------------------+----------+-------------+-------------+--------------+---------------+---------------------+-------------------+--------------+------------+----------------------+--------------------------+---------------+-----------------------+-------------+------------------------------------+---------------------------+----------------+---------------------------------------+\n",
            "|iso_code|continent|      location|last_updated_date|total_cases|new_cases|new_cases_smoothed|total_deaths|new_deaths|new_deaths_smoothed|total_cases_per_million|new_cases_per_million|new_cases_smoothed_per_million|total_deaths_per_million|new_deaths_per_million|new_deaths_smoothed_per_million|reproduction_rate|icu_patients|icu_patients_per_million|hosp_patients|hosp_patients_per_million|weekly_icu_admissions|weekly_icu_admissions_per_million|weekly_hosp_admissions|weekly_hosp_admissions_per_million|total_tests|new_tests|total_tests_per_thousand|new_tests_per_thousand|new_tests_smoothed|new_tests_smoothed_per_thousand|positive_rate|tests_per_case|tests_units|total_vaccinations|people_vaccinated|people_fully_vaccinated|total_boosters|new_vaccinations|new_vaccinations_smoothed|total_vaccinations_per_hundred|people_vaccinated_per_hundred|people_fully_vaccinated_per_hundred|total_boosters_per_hundred|new_vaccinations_smoothed_per_million|new_people_vaccinated_smoothed|new_people_vaccinated_smoothed_per_hundred|stringency_index|population_density|median_age|aged_65_older|aged_70_older|gdp_per_capita|extreme_poverty|cardiovasc_death_rate|diabetes_prevalence|female_smokers|male_smokers|handwashing_facilities|hospital_beds_per_thousand|life_expectancy|human_development_index|   population|excess_mortality_cumulative_absolute|excess_mortality_cumulative|excess_mortality|excess_mortality_cumulative_per_million|\n",
            "+--------+---------+--------------+-----------------+-----------+---------+------------------+------------+----------+-------------------+-----------------------+---------------------+------------------------------+------------------------+----------------------+-------------------------------+-----------------+------------+------------------------+-------------+-------------------------+---------------------+---------------------------------+----------------------+----------------------------------+-----------+---------+------------------------+----------------------+------------------+-------------------------------+-------------+--------------+-----------+------------------+-----------------+-----------------------+--------------+----------------+-------------------------+------------------------------+-----------------------------+-----------------------------------+--------------------------+-------------------------------------+------------------------------+------------------------------------------+----------------+------------------+----------+-------------+-------------+--------------+---------------+---------------------+-------------------+--------------+------------+----------------------+--------------------------+---------------+-----------------------+-------------+------------------------------------+---------------------------+----------------+---------------------------------------+\n",
            "|     AFG|     Asia|   Afghanistan|       2024-08-04|   235214.0|      0.0|               0.0|      7998.0|       0.0|                0.0|               5796.468|                  0.0|                           0.0|                 197.098|                   0.0|                            0.0|             NULL|        NULL|                    NULL|         NULL|                     NULL|                 NULL|                             NULL|                  NULL|                              NULL|       NULL|     NULL|                    NULL|                  NULL|              NULL|                           NULL|         NULL|          NULL|       NULL|              NULL|             NULL|                   NULL|          NULL|            NULL|                     NULL|                          NULL|                         NULL|                               NULL|                      NULL|                                 NULL|                          NULL|                                      NULL|            NULL|            54.422|      18.6|        2.581|        1.337|      1803.987|           NULL|              597.029|               9.59|          NULL|        NULL|                37.746|                       0.5|          64.83|                  0.511|  4.1128772E7|                                NULL|                       NULL|            NULL|                                   NULL|\n",
            "|OWID_AFR|     NULL|        Africa|       2024-08-04| 1.314538E7|     36.0|             5.143|    259117.0|       0.0|                0.0|               9088.877|                0.025|                         0.004|                 179.157|                   0.0|                            0.0|             NULL|        NULL|                    NULL|         NULL|                     NULL|                 NULL|                             NULL|                  NULL|                              NULL|       NULL|     NULL|                    NULL|                  NULL|              NULL|                           NULL|         NULL|          NULL|       NULL|              NULL|             NULL|                   NULL|          NULL|            NULL|                     NULL|                          NULL|                         NULL|                               NULL|                      NULL|                                 NULL|                          NULL|                                      NULL|            NULL|              NULL|      NULL|         NULL|         NULL|          NULL|           NULL|                 NULL|               NULL|          NULL|        NULL|                  NULL|                      NULL|           NULL|                   NULL|1.426736614E9|                                NULL|                       NULL|            NULL|                                   NULL|\n",
            "|     ALB|   Europe|       Albania|       2024-08-04|   335047.0|      0.0|               0.0|      3605.0|       0.0|                0.0|              118491.02|                  0.0|                           0.0|                1274.926|                   0.0|                            0.0|             NULL|        NULL|                    NULL|         NULL|                     NULL|                 NULL|                             NULL|                  NULL|                              NULL|       NULL|     NULL|                    NULL|                  NULL|              NULL|                           NULL|         NULL|          NULL|       NULL|              NULL|             NULL|                   NULL|          NULL|            NULL|                     NULL|                          NULL|                         NULL|                               NULL|                      NULL|                                 NULL|                          NULL|                                      NULL|            NULL|           104.871|      38.0|       13.188|        8.643|     11803.431|            1.1|              304.195|              10.08|           7.1|        51.2|                  NULL|                      2.89|          78.57|                  0.795|    2842318.0|                                NULL|                       NULL|            NULL|                                   NULL|\n",
            "|     DZA|   Africa|       Algeria|       2024-08-04|   272139.0|     18.0|             2.571|      6881.0|       0.0|                0.0|                5984.05|                0.396|                         0.057|                 151.306|                   0.0|                            0.0|             NULL|        NULL|                    NULL|         NULL|                     NULL|                 NULL|                             NULL|                  NULL|                              NULL|       NULL|     NULL|                    NULL|                  NULL|              NULL|                           NULL|         NULL|          NULL|       NULL|              NULL|             NULL|                   NULL|          NULL|            NULL|                     NULL|                          NULL|                         NULL|                               NULL|                      NULL|                                 NULL|                          NULL|                                      NULL|            NULL|            17.348|      29.1|        6.211|        3.857|     13913.839|            0.5|              278.364|               6.73|           0.7|        30.4|                83.741|                       1.9|          76.88|                  0.748|  4.4903228E7|                                NULL|                       NULL|            NULL|                                   NULL|\n",
            "|     ASM|  Oceania|American Samoa|       2024-08-04|     8359.0|      0.0|               0.0|        34.0|       0.0|                0.0|               172831.6|                  0.0|                           0.0|                 702.988|                   0.0|                            0.0|             NULL|        NULL|                    NULL|         NULL|                     NULL|                 NULL|                             NULL|                  NULL|                              NULL|       NULL|     NULL|                    NULL|                  NULL|              NULL|                           NULL|         NULL|          NULL|       NULL|              NULL|             NULL|                   NULL|          NULL|            NULL|                     NULL|                          NULL|                         NULL|                               NULL|                      NULL|                                 NULL|                          NULL|                                      NULL|            NULL|           278.205|      NULL|         NULL|         NULL|          NULL|           NULL|               283.75|               NULL|          NULL|        NULL|                  NULL|                      NULL|          73.74|                   NULL|      44295.0|                                NULL|                       NULL|            NULL|                                   NULL|\n",
            "+--------+---------+--------------+-----------------+-----------+---------+------------------+------------+----------+-------------------+-----------------------+---------------------+------------------------------+------------------------+----------------------+-------------------------------+-----------------+------------+------------------------+-------------+-------------------------+---------------------+---------------------------------+----------------------+----------------------------------+-----------+---------+------------------------+----------------------+------------------+-------------------------------+-------------+--------------+-----------+------------------+-----------------+-----------------------+--------------+----------------+-------------------------+------------------------------+-----------------------------+-----------------------------------+--------------------------+-------------------------------------+------------------------------+------------------------------------------+----------------+------------------+----------+-------------+-------------+--------------+---------------+---------------------+-------------------+--------------+------------+----------------------+--------------------------+---------------+-----------------------+-------------+------------------------------------+---------------------------+----------------+---------------------------------------+\n",
            "only showing top 5 rows\n",
            "\n"
          ]
        }
      ]
    },
    {
      "cell_type": "code",
      "source": [
        "# See column names\n",
        "df.columns\n",
        "\n",
        "# View schema (data types of each column)\n",
        "df.printSchema()\n"
      ],
      "metadata": {
        "colab": {
          "base_uri": "https://localhost:8080/"
        },
        "id": "-A-sSk5q_e02",
        "outputId": "fa6c3f58-02b3-4b38-8b97-bedc621df41b"
      },
      "execution_count": 7,
      "outputs": [
        {
          "output_type": "stream",
          "name": "stdout",
          "text": [
            "root\n",
            " |-- iso_code: string (nullable = true)\n",
            " |-- continent: string (nullable = true)\n",
            " |-- location: string (nullable = true)\n",
            " |-- last_updated_date: date (nullable = true)\n",
            " |-- total_cases: double (nullable = true)\n",
            " |-- new_cases: double (nullable = true)\n",
            " |-- new_cases_smoothed: double (nullable = true)\n",
            " |-- total_deaths: double (nullable = true)\n",
            " |-- new_deaths: double (nullable = true)\n",
            " |-- new_deaths_smoothed: double (nullable = true)\n",
            " |-- total_cases_per_million: double (nullable = true)\n",
            " |-- new_cases_per_million: double (nullable = true)\n",
            " |-- new_cases_smoothed_per_million: double (nullable = true)\n",
            " |-- total_deaths_per_million: double (nullable = true)\n",
            " |-- new_deaths_per_million: double (nullable = true)\n",
            " |-- new_deaths_smoothed_per_million: double (nullable = true)\n",
            " |-- reproduction_rate: string (nullable = true)\n",
            " |-- icu_patients: double (nullable = true)\n",
            " |-- icu_patients_per_million: double (nullable = true)\n",
            " |-- hosp_patients: double (nullable = true)\n",
            " |-- hosp_patients_per_million: double (nullable = true)\n",
            " |-- weekly_icu_admissions: double (nullable = true)\n",
            " |-- weekly_icu_admissions_per_million: double (nullable = true)\n",
            " |-- weekly_hosp_admissions: double (nullable = true)\n",
            " |-- weekly_hosp_admissions_per_million: double (nullable = true)\n",
            " |-- total_tests: string (nullable = true)\n",
            " |-- new_tests: string (nullable = true)\n",
            " |-- total_tests_per_thousand: string (nullable = true)\n",
            " |-- new_tests_per_thousand: string (nullable = true)\n",
            " |-- new_tests_smoothed: string (nullable = true)\n",
            " |-- new_tests_smoothed_per_thousand: string (nullable = true)\n",
            " |-- positive_rate: string (nullable = true)\n",
            " |-- tests_per_case: string (nullable = true)\n",
            " |-- tests_units: string (nullable = true)\n",
            " |-- total_vaccinations: double (nullable = true)\n",
            " |-- people_vaccinated: double (nullable = true)\n",
            " |-- people_fully_vaccinated: double (nullable = true)\n",
            " |-- total_boosters: double (nullable = true)\n",
            " |-- new_vaccinations: double (nullable = true)\n",
            " |-- new_vaccinations_smoothed: double (nullable = true)\n",
            " |-- total_vaccinations_per_hundred: double (nullable = true)\n",
            " |-- people_vaccinated_per_hundred: double (nullable = true)\n",
            " |-- people_fully_vaccinated_per_hundred: double (nullable = true)\n",
            " |-- total_boosters_per_hundred: double (nullable = true)\n",
            " |-- new_vaccinations_smoothed_per_million: double (nullable = true)\n",
            " |-- new_people_vaccinated_smoothed: double (nullable = true)\n",
            " |-- new_people_vaccinated_smoothed_per_hundred: double (nullable = true)\n",
            " |-- stringency_index: string (nullable = true)\n",
            " |-- population_density: double (nullable = true)\n",
            " |-- median_age: double (nullable = true)\n",
            " |-- aged_65_older: double (nullable = true)\n",
            " |-- aged_70_older: double (nullable = true)\n",
            " |-- gdp_per_capita: double (nullable = true)\n",
            " |-- extreme_poverty: double (nullable = true)\n",
            " |-- cardiovasc_death_rate: double (nullable = true)\n",
            " |-- diabetes_prevalence: double (nullable = true)\n",
            " |-- female_smokers: double (nullable = true)\n",
            " |-- male_smokers: double (nullable = true)\n",
            " |-- handwashing_facilities: double (nullable = true)\n",
            " |-- hospital_beds_per_thousand: double (nullable = true)\n",
            " |-- life_expectancy: double (nullable = true)\n",
            " |-- human_development_index: double (nullable = true)\n",
            " |-- population: double (nullable = true)\n",
            " |-- excess_mortality_cumulative_absolute: string (nullable = true)\n",
            " |-- excess_mortality_cumulative: string (nullable = true)\n",
            " |-- excess_mortality: string (nullable = true)\n",
            " |-- excess_mortality_cumulative_per_million: string (nullable = true)\n",
            "\n"
          ]
        }
      ]
    },
    {
      "cell_type": "code",
      "source": [
        "#top 10 countries by total covid cases\n",
        "df.orderBy(df[\"total_cases\"].desc()).select(\"location\", \"total_cases\").show(10)\n"
      ],
      "metadata": {
        "colab": {
          "base_uri": "https://localhost:8080/"
        },
        "id": "1o4TTNFO_lVx",
        "outputId": "9ca4b794-6b49-413e-ce3e-6dac43638a0c"
      },
      "execution_count": 8,
      "outputs": [
        {
          "output_type": "stream",
          "name": "stdout",
          "text": [
            "+--------------------+------------+\n",
            "|            location| total_cases|\n",
            "+--------------------+------------+\n",
            "|               World|7.75866783E8|\n",
            "|High-income count...|4.29044049E8|\n",
            "|                Asia|3.01499099E8|\n",
            "|              Europe|2.52916868E8|\n",
            "|Upper-middle-inco...|2.51753518E8|\n",
            "| European Union (27)|1.85822587E8|\n",
            "|       North America|1.24492666E8|\n",
            "|       United States|1.03436829E8|\n",
            "|               China| 9.9373219E7|\n",
            "|Lower-middle-inco...|   9.19544E7|\n",
            "+--------------------+------------+\n",
            "only showing top 10 rows\n",
            "\n"
          ]
        }
      ]
    },
    {
      "cell_type": "code",
      "source": [
        "# Calculate death rate = total_deaths / total_cases\n",
        "from pyspark.sql.functions import col, round\n",
        "\n",
        "df = df.withColumn(\"death_rate\", round(col(\"total_deaths\") / col(\"total_cases\"), 4))\n",
        "df.select(\"location\", \"total_cases\", \"total_deaths\", \"death_rate\").orderBy(col(\"death_rate\").desc()).show(10)\n"
      ],
      "metadata": {
        "colab": {
          "base_uri": "https://localhost:8080/"
        },
        "id": "_vvy6BatAIP4",
        "outputId": "fb8dfd73-3fdd-469c-ad72-02df31a6a32e"
      },
      "execution_count": 9,
      "outputs": [
        {
          "output_type": "stream",
          "name": "stdout",
          "text": [
            "+--------------------+-----------+------------+----------+\n",
            "|            location|total_cases|total_deaths|death_rate|\n",
            "+--------------------+-----------+------------+----------+\n",
            "|               Yemen|    11945.0|      2159.0|    0.1807|\n",
            "|               Sudan|    63993.0|      5046.0|    0.0789|\n",
            "|               Syria|    57423.0|      3163.0|    0.0551|\n",
            "|             Somalia|    27334.0|      1361.0|    0.0498|\n",
            "|                Peru|  4526977.0|    220975.0|    0.0488|\n",
            "|               Egypt|   516023.0|     24830.0|    0.0481|\n",
            "|              Mexico|  7619458.0|    334551.0|    0.0439|\n",
            "|Bosnia and Herzeg...|   403666.0|     16392.0|    0.0406|\n",
            "|             Liberia|     7930.0|       294.0|    0.0371|\n",
            "|         Afghanistan|   235214.0|      7998.0|     0.034|\n",
            "+--------------------+-----------+------------+----------+\n",
            "only showing top 10 rows\n",
            "\n"
          ]
        }
      ]
    },
    {
      "cell_type": "code",
      "source": [
        "#Top 10 Countries by Vaccination Rate\n",
        "# Create new column: vaccination_rate = people_vaccinated / population\n",
        "df = df.withColumn(\"vaccination_rate\", round(col(\"people_vaccinated\") / col(\"population\"), 4))\n",
        "\n",
        "# Show top 10 countries by vaccination_rate\n",
        "df.select(\"location\", \"people_vaccinated\", \"population\", \"vaccination_rate\")\\\n",
        "  .orderBy(col(\"vaccination_rate\").desc())\\\n",
        "  .show(10)\n"
      ],
      "metadata": {
        "colab": {
          "base_uri": "https://localhost:8080/"
        },
        "id": "Dq76XRu5AkG0",
        "outputId": "f83578db-2b06-4e27-e023-f4a84f4af84b"
      },
      "execution_count": 10,
      "outputs": [
        {
          "output_type": "stream",
          "name": "stdout",
          "text": [
            "+--------------------+-----------------+-------------+----------------+\n",
            "|            location|people_vaccinated|   population|vaccination_rate|\n",
            "+--------------------+-----------------+-------------+----------------+\n",
            "|           Hong Kong|        6920120.0|    7488863.0|          0.9241|\n",
            "|Upper-middle-inco...|    2.109015426E9|  2.5259213E9|          0.8349|\n",
            "|            Malaysia|      2.8138569E7|  3.3938216E7|          0.8291|\n",
            "|High-income count...|     9.98723024E8|  1.2505146E9|          0.7986|\n",
            "|                Asia|    3.689438947E9| 4.72138337E9|          0.7814|\n",
            "|       North America|     4.58563506E8| 6.00323657E8|          0.7639|\n",
            "| European Union (27)|     3.38119562E8| 4.50146793E8|          0.7511|\n",
            "|               India|    1.027438924E9| 1.41717312E9|           0.725|\n",
            "|           Lithuania|        1958300.0|    2750058.0|          0.7121|\n",
            "|               World|    5.631263739E9|7.975105024E9|          0.7061|\n",
            "+--------------------+-----------------+-------------+----------------+\n",
            "only showing top 10 rows\n",
            "\n"
          ]
        }
      ]
    },
    {
      "cell_type": "code",
      "source": [
        "# Total Cases per Million People\n",
        "# Create new column: cases_per_million = total_cases / population * 1,000,000\n",
        "df = df.withColumn(\"cases_per_million\", round((col(\"total_cases\") / col(\"population\")) * 1000000, 2))\n",
        "\n",
        "# Show top 10 countries\n",
        "df.select(\"location\", \"total_cases\", \"population\", \"cases_per_million\")\\\n",
        "  .orderBy(col(\"cases_per_million\").desc())\\\n",
        "  .show(10)\n"
      ],
      "metadata": {
        "colab": {
          "base_uri": "https://localhost:8080/"
        },
        "id": "OmVPUPDGBHDB",
        "outputId": "a93c6ba4-2d11-4ccf-9958-5e2f8fb6a0cf"
      },
      "execution_count": 11,
      "outputs": [
        {
          "output_type": "stream",
          "name": "stdout",
          "text": [
            "+-------------+-----------+-----------+-----------------+\n",
            "|     location|total_cases| population|cases_per_million|\n",
            "+-------------+-----------+-----------+-----------------+\n",
            "|       Cyprus|   696410.0|   896007.0|        777237.23|\n",
            "|       Brunei|   347723.0|   449002.0|         774435.3|\n",
            "|   San Marino|    25292.0|    33690.0|        750727.22|\n",
            "|      Austria|  6082444.0|  8939617.0|        680392.01|\n",
            "|  South Korea|3.4571873E7|5.1815808E7|        667207.06|\n",
            "|Faroe Islands|    34658.0|    53117.0|        652484.14|\n",
            "|     Slovenia|  1356582.0|  2119843.0|        639944.56|\n",
            "|    Gibraltar|    20550.0|    32677.0|         628882.7|\n",
            "|   Martinique|   230354.0|   367512.0|        626793.14|\n",
            "|   Luxembourg|   393542.0|   647601.0|        607692.08|\n",
            "+-------------+-----------+-----------+-----------------+\n",
            "only showing top 10 rows\n",
            "\n"
          ]
        }
      ]
    },
    {
      "cell_type": "code",
      "source": [
        "#Does Higher Vaccination Lower Death Rate?\n",
        "# Filter countries where both vaccination_rate and death_rate are not null\n",
        "df_filtered = df.filter((col(\"vaccination_rate\").isNotNull()) & (col(\"death_rate\").isNotNull()))\n",
        "\n",
        "# Select relevant columns\n",
        "df_filtered.select(\"location\", \"vaccination_rate\", \"death_rate\")\\\n",
        "  .orderBy(col(\"vaccination_rate\").desc())\\\n",
        "  .show(15)\n"
      ],
      "metadata": {
        "colab": {
          "base_uri": "https://localhost:8080/"
        },
        "id": "M8UXEblyBX6W",
        "outputId": "2f4e57ad-25a6-4bdb-ce6c-1cb2d05b4577"
      },
      "execution_count": 12,
      "outputs": [
        {
          "output_type": "stream",
          "name": "stdout",
          "text": [
            "+--------------------+----------------+----------+\n",
            "|            location|vaccination_rate|death_rate|\n",
            "+--------------------+----------------+----------+\n",
            "|Upper-middle-inco...|          0.8349|    0.0112|\n",
            "|            Malaysia|          0.8291|     0.007|\n",
            "|High-income count...|          0.7986|     0.007|\n",
            "|                Asia|          0.7814|    0.0054|\n",
            "|       North America|          0.7639|    0.0134|\n",
            "| European Union (27)|          0.7511|    0.0068|\n",
            "|               India|           0.725|    0.0118|\n",
            "|           Lithuania|          0.7121|    0.0072|\n",
            "|               World|          0.7061|    0.0091|\n",
            "|              Europe|          0.7033|    0.0083|\n",
            "|             Czechia|          0.6653|    0.0091|\n",
            "|Lower-middle-inco...|          0.6649|    0.0129|\n",
            "|             Estonia|          0.6562|    0.0049|\n",
            "|             Oceania|           0.643|    0.0022|\n",
            "+--------------------+----------------+----------+\n",
            "\n"
          ]
        }
      ]
    },
    {
      "cell_type": "code",
      "source": [
        "#Deeper Insights:\n",
        "\n",
        "#Countries like HONG KONG, Malaysia have vaccinated a high proportion of their population.\n",
        "\n",
        "#Adjusting for population,countries like Cyprus,Brunei had highest infection densities.\n",
        "\n",
        "#There appears to be an inverse pattern between vaccination rate and death rate, suggesting vaccinations reduce mortality.\n",
        "\n",
        "#These findings show the power of PySpark in analyzing large public health datasets quickly and at scale.\n",
        "\n"
      ],
      "metadata": {
        "id": "hpIvX_WJB3x1"
      },
      "execution_count": null,
      "outputs": []
    }
  ]
}